{
 "cells": [
  {
   "cell_type": "markdown",
   "id": "646225e6",
   "metadata": {},
   "source": [
    "# AB testing"
   ]
  },
  {
   "cell_type": "markdown",
   "id": "2e3e1e8c",
   "metadata": {},
   "source": [
    "Представим, что мы работаем аналитиком в онлайн-кинотеатре. \\\n",
    "Мы хотим добавить новую красивую кнопку \"купить подписку\" на страницу, где ее раньше не было. \\\n",
    "Предполагается, что добавив эту кнопку, мы увеличим конверсию в покупку подписки. До проведения эксперимента значение конверсии равно 12%, и команда считает, что стоит выкатывать это обновление на всех пользователей, если мы увидим увеличение конверсии на 1%. Чтобы проверить, действительно ли эта кнопка увеличит конверсию, мы решили провести АБ-тест.\n"
   ]
  },
  {
   "cell_type": "markdown",
   "id": "84eb4ed1",
   "metadata": {},
   "source": [
    "## Дизайн эксперимента"
   ]
  },
  {
   "cell_type": "markdown",
   "id": "94b0b10d",
   "metadata": {},
   "source": [
    "**1. Формулируем гипотезу:**\n",
    "\n",
    "        Н0: CRa = CRb \n",
    "        H1: CRa != CRb \n",
    "        \n",
    "  CR - conversion rate"
   ]
  },
  {
   "cell_type": "markdown",
   "id": "0b25c761",
   "metadata": {},
   "source": [
    "**2. Рассчитываем необходимый размер выборки**\n",
    "\n",
    "Количество необходимых наблюдений зависит от нескольких факторов:\n",
    "    \n",
    "- Мощность теста (1-β). Мощность теста представляет собой вероятность отклонить нулевую гипотезу, если она неверна. В нашем эксперименте мощность будет равна 0.8\n",
    "- Значение альфа (α). Обозначим ее равной 0.05\n",
    "- Размер эффекта (Effect size). Минимальное значение различия между группами, которое мы хотим обнаружить нашим стат.тестом. В нашем случае мы хотим зафиксировать разницу минимум в 1%\n",
    "- "
   ]
  },
  {
   "cell_type": "code",
   "execution_count": 64,
   "id": "76692497",
   "metadata": {},
   "outputs": [],
   "source": [
    "import numpy as np\n",
    "import pandas as pd\n",
    "import scipy.stats as stats\n",
    "import statsmodels.stats.api as sms\n",
    "import matplotlib.pyplot as plt\n",
    "import seaborn as sns \n",
    "from math import ceil "
   ]
  },
  {
   "cell_type": "code",
   "execution_count": 110,
   "id": "b0bc48d9",
   "metadata": {},
   "outputs": [
    {
     "name": "stdout",
     "output_type": "stream",
     "text": [
      "17164\n"
     ]
    }
   ],
   "source": [
    "effect_size = sms.proportion_effectsize(0.12, 0.13)\n",
    "\n",
    "required_n = sms.NormalIndPower().solve_power(\n",
    "                                effect_size,\n",
    "                                power=0.8,\n",
    "                                alpha=0.05,\n",
    "                                ratio=1)               \n",
    "\n",
    "required_n = ceil(required_n)                          \n",
    "\n",
    "print(required_n)"
   ]
  },
  {
   "cell_type": "markdown",
   "id": "c75c4b33",
   "metadata": {},
   "source": [
    "Таким образом, мы получили, что нам необходимо как минимум **17164 наблюдений** в каждой группе."
   ]
  },
  {
   "cell_type": "markdown",
   "id": "2135a2d1",
   "metadata": {},
   "source": [
    "## Сбор и обработка данных"
   ]
  },
  {
   "cell_type": "markdown",
   "id": "74d0397f",
   "metadata": {},
   "source": [
    "В датасете, который используется для проекта уже накоплено около 300 тыс. наблюдений, но для симуляции ситуации, что мы собираем наблюдения возьмем по 17164 наблюдений из каждой группы."
   ]
  },
  {
   "cell_type": "code",
   "execution_count": 111,
   "id": "9a6c1c6d",
   "metadata": {},
   "outputs": [],
   "source": [
    "ab = pd.read_csv(r'C:\\Users\\Honor\\Downloads\\ab_data.csv')"
   ]
  },
  {
   "cell_type": "code",
   "execution_count": 112,
   "id": "df2aa2c5",
   "metadata": {},
   "outputs": [
    {
     "data": {
      "text/html": [
       "<div>\n",
       "<style scoped>\n",
       "    .dataframe tbody tr th:only-of-type {\n",
       "        vertical-align: middle;\n",
       "    }\n",
       "\n",
       "    .dataframe tbody tr th {\n",
       "        vertical-align: top;\n",
       "    }\n",
       "\n",
       "    .dataframe thead th {\n",
       "        text-align: right;\n",
       "    }\n",
       "</style>\n",
       "<table border=\"1\" class=\"dataframe\">\n",
       "  <thead>\n",
       "    <tr style=\"text-align: right;\">\n",
       "      <th></th>\n",
       "      <th>user_id</th>\n",
       "      <th>timestamp</th>\n",
       "      <th>group</th>\n",
       "      <th>landing_page</th>\n",
       "      <th>converted</th>\n",
       "    </tr>\n",
       "  </thead>\n",
       "  <tbody>\n",
       "    <tr>\n",
       "      <th>0</th>\n",
       "      <td>851104</td>\n",
       "      <td>2017-01-21 22:11:48.556739</td>\n",
       "      <td>control</td>\n",
       "      <td>old_page</td>\n",
       "      <td>0</td>\n",
       "    </tr>\n",
       "    <tr>\n",
       "      <th>1</th>\n",
       "      <td>804228</td>\n",
       "      <td>2017-01-12 08:01:45.159739</td>\n",
       "      <td>control</td>\n",
       "      <td>old_page</td>\n",
       "      <td>0</td>\n",
       "    </tr>\n",
       "    <tr>\n",
       "      <th>2</th>\n",
       "      <td>661590</td>\n",
       "      <td>2017-01-11 16:55:06.154213</td>\n",
       "      <td>treatment</td>\n",
       "      <td>new_page</td>\n",
       "      <td>0</td>\n",
       "    </tr>\n",
       "    <tr>\n",
       "      <th>3</th>\n",
       "      <td>853541</td>\n",
       "      <td>2017-01-08 18:28:03.143765</td>\n",
       "      <td>treatment</td>\n",
       "      <td>new_page</td>\n",
       "      <td>0</td>\n",
       "    </tr>\n",
       "    <tr>\n",
       "      <th>4</th>\n",
       "      <td>864975</td>\n",
       "      <td>2017-01-21 01:52:26.210827</td>\n",
       "      <td>control</td>\n",
       "      <td>old_page</td>\n",
       "      <td>1</td>\n",
       "    </tr>\n",
       "  </tbody>\n",
       "</table>\n",
       "</div>"
      ],
      "text/plain": [
       "   user_id                   timestamp      group landing_page  converted\n",
       "0   851104  2017-01-21 22:11:48.556739    control     old_page          0\n",
       "1   804228  2017-01-12 08:01:45.159739    control     old_page          0\n",
       "2   661590  2017-01-11 16:55:06.154213  treatment     new_page          0\n",
       "3   853541  2017-01-08 18:28:03.143765  treatment     new_page          0\n",
       "4   864975  2017-01-21 01:52:26.210827    control     old_page          1"
      ]
     },
     "execution_count": 112,
     "metadata": {},
     "output_type": "execute_result"
    }
   ],
   "source": [
    "ab.head()"
   ]
  },
  {
   "cell_type": "code",
   "execution_count": 113,
   "id": "a1c27584",
   "metadata": {},
   "outputs": [
    {
     "data": {
      "text/plain": [
       "(294478, 5)"
      ]
     },
     "execution_count": 113,
     "metadata": {},
     "output_type": "execute_result"
    }
   ],
   "source": [
    "ab.shape"
   ]
  },
  {
   "cell_type": "code",
   "execution_count": 114,
   "id": "69b3042f",
   "metadata": {},
   "outputs": [
    {
     "data": {
      "text/plain": [
       "user_id          int64\n",
       "timestamp       object\n",
       "group           object\n",
       "landing_page    object\n",
       "converted        int64\n",
       "dtype: object"
      ]
     },
     "execution_count": 114,
     "metadata": {},
     "output_type": "execute_result"
    }
   ],
   "source": [
    "ab.dtypes"
   ]
  },
  {
   "cell_type": "markdown",
   "id": "05a68a1f",
   "metadata": {},
   "source": [
    "Посмотрим, есть ли в датасете пользователей, которые встречаются больше одного раза"
   ]
  },
  {
   "cell_type": "code",
   "execution_count": 115,
   "id": "127bb0af",
   "metadata": {},
   "outputs": [
    {
     "data": {
      "text/plain": [
       "290584"
      ]
     },
     "execution_count": 115,
     "metadata": {},
     "output_type": "execute_result"
    }
   ],
   "source": [
    "session_counts = ab['user_id'].value_counts()\n",
    "session_counts.count()"
   ]
  },
  {
   "cell_type": "code",
   "execution_count": 116,
   "id": "2b39179c",
   "metadata": {},
   "outputs": [
    {
     "name": "stdout",
     "output_type": "stream",
     "text": [
      "3894 пользователей встречаются в датасете больше одного раза\n"
     ]
    }
   ],
   "source": [
    "multi_users = session_counts[session_counts > 1].count()\n",
    "\n",
    "print(f\"{multi_users} пользователей встречаются в датасете больше одного раза\")"
   ]
  },
  {
   "cell_type": "markdown",
   "id": "fcb5817d",
   "metadata": {},
   "source": [
    "Т.к. количество таких пользователей довольно низкое по сравнению с общим кол-вом пользователей в датасете, мы можем удалить повторяющихся пользователей"
   ]
  },
  {
   "cell_type": "code",
   "execution_count": 117,
   "id": "e7f8cd61",
   "metadata": {},
   "outputs": [],
   "source": [
    "users_to_drop = session_counts[session_counts > 1].index\n",
    "\n",
    "ab = ab[-ab['user_id'].isin(users_to_drop)]"
   ]
  },
  {
   "cell_type": "code",
   "execution_count": 118,
   "id": "65bda53b",
   "metadata": {},
   "outputs": [],
   "source": [
    "control_sample = ab.query('group == \"control\"').sample(n=required_n)\n",
    "treatment_sample = ab.query('group == \"treatment\"').sample(n=required_n)"
   ]
  },
  {
   "cell_type": "code",
   "execution_count": 119,
   "id": "3c180354",
   "metadata": {},
   "outputs": [
    {
     "name": "stdout",
     "output_type": "stream",
     "text": [
      "(17164, 5)\n",
      "(17164, 5)\n"
     ]
    }
   ],
   "source": [
    "print(control_sample.shape)\n",
    "print(treatment_sample.shape)"
   ]
  },
  {
   "cell_type": "code",
   "execution_count": 120,
   "id": "9a7a89a5",
   "metadata": {},
   "outputs": [
    {
     "data": {
      "text/html": [
       "<div>\n",
       "<style scoped>\n",
       "    .dataframe tbody tr th:only-of-type {\n",
       "        vertical-align: middle;\n",
       "    }\n",
       "\n",
       "    .dataframe tbody tr th {\n",
       "        vertical-align: top;\n",
       "    }\n",
       "\n",
       "    .dataframe thead th {\n",
       "        text-align: right;\n",
       "    }\n",
       "</style>\n",
       "<table border=\"1\" class=\"dataframe\">\n",
       "  <thead>\n",
       "    <tr style=\"text-align: right;\">\n",
       "      <th></th>\n",
       "      <th>user_id</th>\n",
       "      <th>timestamp</th>\n",
       "      <th>group</th>\n",
       "      <th>landing_page</th>\n",
       "      <th>converted</th>\n",
       "    </tr>\n",
       "  </thead>\n",
       "  <tbody>\n",
       "    <tr>\n",
       "      <th>0</th>\n",
       "      <td>851335</td>\n",
       "      <td>2017-01-23 02:03:39.820710</td>\n",
       "      <td>control</td>\n",
       "      <td>old_page</td>\n",
       "      <td>1</td>\n",
       "    </tr>\n",
       "    <tr>\n",
       "      <th>1</th>\n",
       "      <td>910066</td>\n",
       "      <td>2017-01-06 07:09:04.245559</td>\n",
       "      <td>control</td>\n",
       "      <td>old_page</td>\n",
       "      <td>0</td>\n",
       "    </tr>\n",
       "    <tr>\n",
       "      <th>2</th>\n",
       "      <td>910462</td>\n",
       "      <td>2017-01-07 03:08:31.962720</td>\n",
       "      <td>control</td>\n",
       "      <td>old_page</td>\n",
       "      <td>0</td>\n",
       "    </tr>\n",
       "    <tr>\n",
       "      <th>3</th>\n",
       "      <td>845518</td>\n",
       "      <td>2017-01-19 23:17:38.578794</td>\n",
       "      <td>control</td>\n",
       "      <td>old_page</td>\n",
       "      <td>0</td>\n",
       "    </tr>\n",
       "    <tr>\n",
       "      <th>4</th>\n",
       "      <td>648143</td>\n",
       "      <td>2017-01-20 16:31:03.613631</td>\n",
       "      <td>control</td>\n",
       "      <td>old_page</td>\n",
       "      <td>0</td>\n",
       "    </tr>\n",
       "  </tbody>\n",
       "</table>\n",
       "</div>"
      ],
      "text/plain": [
       "   user_id                   timestamp    group landing_page  converted\n",
       "0   851335  2017-01-23 02:03:39.820710  control     old_page          1\n",
       "1   910066  2017-01-06 07:09:04.245559  control     old_page          0\n",
       "2   910462  2017-01-07 03:08:31.962720  control     old_page          0\n",
       "3   845518  2017-01-19 23:17:38.578794  control     old_page          0\n",
       "4   648143  2017-01-20 16:31:03.613631  control     old_page          0"
      ]
     },
     "execution_count": 120,
     "metadata": {},
     "output_type": "execute_result"
    }
   ],
   "source": [
    "ab_test = pd.concat([control_sample, treatment_sample], axis=0)\n",
    "ab_test.reset_index(drop=True, inplace=True)\n",
    "ab_test.head()"
   ]
  },
  {
   "cell_type": "code",
   "execution_count": 121,
   "id": "f67260f3",
   "metadata": {},
   "outputs": [
    {
     "data": {
      "text/plain": [
       "34328"
      ]
     },
     "execution_count": 121,
     "metadata": {},
     "output_type": "execute_result"
    }
   ],
   "source": [
    "ab_test.user_id.nunique()"
   ]
  },
  {
   "cell_type": "code",
   "execution_count": 122,
   "id": "d4f6f3d2",
   "metadata": {},
   "outputs": [
    {
     "data": {
      "text/plain": [
       "group\n",
       "control      0.120718\n",
       "treatment    0.117280\n",
       "Name: converted, dtype: float64"
      ]
     },
     "execution_count": 122,
     "metadata": {},
     "output_type": "execute_result"
    }
   ],
   "source": [
    "conversion_rates = ab_test.groupby('group')['converted']\n",
    "\n",
    "conversion_rates = conversion_rates.agg(np.mean)\n",
    "conversion_rates.columns = ['conversion_rate']\n",
    "conversion_rates"
   ]
  },
  {
   "cell_type": "markdown",
   "id": "e5972e62",
   "metadata": {},
   "source": [
    "В контрольной группе значение конверсии оказалось равным **12.1%** \\\n",
    "В тестовой группе **11.8%** \n",
    "\n",
    "Значение в контрольной группе выше. Рассмотрим являются ли эти различия стат. значимыми."
   ]
  },
  {
   "cell_type": "markdown",
   "id": "49776b6f",
   "metadata": {},
   "source": [
    "## Проверка гипотезы"
   ]
  },
  {
   "cell_type": "markdown",
   "id": "30c167ae",
   "metadata": {},
   "source": [
    "Для сравнения двух значений конверсий будем использовать z-test. Согласно центральной предельной теореме, мы можем безопасно аппроксимировать распределение биномиальной пропорциональной статистики, используя нормальное распределение."
   ]
  },
  {
   "cell_type": "code",
   "execution_count": 123,
   "id": "c646ff9f",
   "metadata": {},
   "outputs": [],
   "source": [
    "from statsmodels.stats.proportion import proportions_ztest, proportion_confint"
   ]
  },
  {
   "cell_type": "code",
   "execution_count": 124,
   "id": "85dc8a11",
   "metadata": {},
   "outputs": [],
   "source": [
    "control_results = ab_test[ab_test['group'] == 'control']['converted']\n",
    "treatment_results = ab_test[ab_test['group'] == 'treatment']['converted']"
   ]
  },
  {
   "cell_type": "code",
   "execution_count": 125,
   "id": "f89da9c4",
   "metadata": {},
   "outputs": [
    {
     "name": "stdout",
     "output_type": "stream",
     "text": [
      "z statistic: 0.98\n",
      "p-value: 0.325\n",
      "ci 95% for control group: [0.116, 0.126]\n",
      "ci 95% for treatment group: [0.112, 0.122]\n"
     ]
    }
   ],
   "source": [
    "n_con = control_results.count()\n",
    "n_treat = treatment_results.count()\n",
    "successes = [control_results.sum(), treatment_results.sum()]\n",
    "nobs = [n_con, n_treat]\n",
    "\n",
    "\n",
    "z_stat, pval = proportions_ztest(successes, nobs=nobs)\n",
    "\n",
    "(lower_con, lower_treat), (upper_con, upper_treat) = proportion_confint(successes, nobs=nobs, alpha=0.05)\n",
    "\n",
    "print(f'z statistic: {z_stat:.2f}')\n",
    "print(f'p-value: {pval:.3f}')\n",
    "print(f'ci 95% for control group: [{lower_con:.3f}, {upper_con:.3f}]')\n",
    "print(f'ci 95% for treatment group: [{lower_treat:.3f}, {upper_treat:.3f}]')"
   ]
  },
  {
   "cell_type": "markdown",
   "id": "d3ad83da",
   "metadata": {},
   "source": [
    "Значение p-value оказалось равным 0.325, поэтому мы не имеем оснований отклонить нулевую гипотезу. Это означает, что мы не можем говорить о том, что добавление новой кнопки стат. значимо влияет на конверсию в покупку подписки."
   ]
  }
 ],
 "metadata": {
  "kernelspec": {
   "display_name": "Python 3",
   "language": "python",
   "name": "python3"
  },
  "language_info": {
   "codemirror_mode": {
    "name": "ipython",
    "version": 3
   },
   "file_extension": ".py",
   "mimetype": "text/x-python",
   "name": "python",
   "nbconvert_exporter": "python",
   "pygments_lexer": "ipython3",
   "version": "3.8.8"
  }
 },
 "nbformat": 4,
 "nbformat_minor": 5
}
